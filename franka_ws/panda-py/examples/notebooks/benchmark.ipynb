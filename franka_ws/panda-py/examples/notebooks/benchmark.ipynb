{
 "cells": [
  {
   "cell_type": "markdown",
   "metadata": {},
   "source": [
    "Benchmarks\n",
    "----------\n",
    "\n",
    "Import necessary libraries. We use ansitable to print a table of benchmarks and numpy for random state-space sampling."
   ]
  },
  {
   "cell_type": "code",
   "execution_count": 21,
   "metadata": {},
   "outputs": [],
   "source": [
    "import time\n",
    "import panda_py\n",
    "from panda_py import constants, motion\n",
    "import numpy as np\n",
    "import ansitable"
   ]
  },
  {
   "cell_type": "markdown",
   "metadata": {},
   "source": [
    "Each function is evaluated for `num_samples` number of samples. Trajectories consist of `num_waypoints` waypoints each. We randomly sample the state-space defined by the joint limits for joint positions stored in `q_rand` and store the corresponding end-effector poses in `T_rand`."
   ]
  },
  {
   "cell_type": "code",
   "execution_count": 22,
   "metadata": {},
   "outputs": [],
   "source": [
    "num_samples = 10000\n",
    "num_waypoints = 5\n",
    "np.random.seed(0)\n",
    "q_rand = np.random.uniform(low=constants.JOINT_LIMITS_LOWER,\n",
    "                           high=constants.JOINT_LIMITS_UPPER,\n",
    "                           size=(num_samples, 7))\n",
    "T_rand = [panda_py.fk(q) for q in q_rand]"
   ]
  },
  {
   "cell_type": "markdown",
   "metadata": {},
   "source": [
    "Execute and time the samples for inverse and forward kinematics as well joint and Cartesian trajectory generation. Total runtime is around 5 minutes for 10000 samples."
   ]
  },
  {
   "cell_type": "code",
   "execution_count": 23,
   "metadata": {},
   "outputs": [
    {
     "name": "stderr",
     "output_type": "stream",
     "text": [
      "Trajectory computation timed out after 1 seconds.\n",
      "Trajectory computation timed out after 1 seconds.\n",
      "Trajectory computation timed out after 1 seconds.\n",
      "Trajectory computation timed out after 1 seconds.\n",
      "Trajectory computation timed out after 1 seconds.\n"
     ]
    }
   ],
   "source": [
    "ik = []\n",
    "for T in T_rand:\n",
    "  t = time.time()\n",
    "  panda_py.ik(T)\n",
    "  ik.append(time.time() - t)\n",
    "\n",
    "fk = []\n",
    "for q in q_rand:\n",
    "  t = time.time()\n",
    "  panda_py.fk(q)\n",
    "  fk.append(time.time() - t)\n",
    "\n",
    "joint_motion = []\n",
    "for i in range(num_samples):\n",
    "  waypoints = []\n",
    "  for k in range(num_waypoints):\n",
    "    waypoints.append(q_rand[np.random.randint(0, num_samples - 1), :])\n",
    "  t = time.time()\n",
    "  try:\n",
    "    motion.JointTrajectory(waypoints, timeout=1)\n",
    "  except:\n",
    "    continue\n",
    "  joint_motion.append(time.time() - t)\n",
    "\n",
    "cartesian_motion = []\n",
    "for i in range(num_samples):\n",
    "  waypoints = []\n",
    "  for k in range(num_waypoints):\n",
    "    waypoints.append(T_rand[np.random.randint(0, num_samples - 1)])\n",
    "  t = time.time()\n",
    "  try:\n",
    "    motion.CartesianTrajectory(waypoints, timeout=1)\n",
    "  except:\n",
    "    continue\n",
    "  cartesian_motion.append(time.time() - t)\n"
   ]
  },
  {
   "cell_type": "markdown",
   "metadata": {},
   "source": [
    "Pretty-print the resulting average runtimes."
   ]
  },
  {
   "cell_type": "code",
   "execution_count": 24,
   "metadata": {},
   "outputs": [
    {
     "name": "stdout",
     "output_type": "stream",
     "text": [
      "┌────────────────┬──────────────────┐\n",
      "│       Function │ Avg. Runtime (s) │\n",
      "├────────────────┼──────────────────┤\n",
      "│             fk\u001b[0m │         3.62e-06\u001b[0m │\n",
      "│             ik\u001b[0m │         3.07e-06\u001b[0m │\n",
      "│    JointMotion\u001b[0m │         1.83e-02\u001b[0m │\n",
      "│CartesianMotion\u001b[0m │         9.66e-03\u001b[0m │\n",
      "└────────────────┴──────────────────┘\n",
      "\n"
     ]
    }
   ],
   "source": [
    "def format_runtime(runtime):\n",
    "    return format(np.average(runtime), '.2e')\n",
    "\n",
    "table = ansitable.ANSITable('Function', 'Avg. Runtime (s)', border='thin')\n",
    "table.row('fk', format_runtime(fk))\n",
    "table.row('ik', format_runtime(ik))\n",
    "table.row('JointMotion', format_runtime(joint_motion))\n",
    "table.row('CartesianMotion', format_runtime(cartesian_motion))\n",
    "table.print()"
   ]
  }
 ],
 "metadata": {
  "kernelspec": {
   "display_name": "Python 3",
   "language": "python",
   "name": "python3"
  },
  "language_info": {
   "codemirror_mode": {
    "name": "ipython",
    "version": 3
   },
   "file_extension": ".py",
   "mimetype": "text/x-python",
   "name": "python",
   "nbconvert_exporter": "python",
   "pygments_lexer": "ipython3",
   "version": "3.10.6"
  },
  "orig_nbformat": 4
 },
 "nbformat": 4,
 "nbformat_minor": 2
}
